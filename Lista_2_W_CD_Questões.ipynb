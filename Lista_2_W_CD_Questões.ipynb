{
  "nbformat": 4,
  "nbformat_minor": 0,
  "metadata": {
    "colab": {
      "name": "Lista 2 W CD Questões.ipynb",
      "provenance": [],
      "include_colab_link": true
    },
    "kernelspec": {
      "name": "python3",
      "display_name": "Python 3"
    },
    "language_info": {
      "name": "python"
    }
  },
  "cells": [
    {
      "cell_type": "markdown",
      "metadata": {
        "id": "view-in-github",
        "colab_type": "text"
      },
      "source": [
        "<a href=\"https://colab.research.google.com/github/zadhart/Lista-2-Data-Science/blob/master/Lista_2_W_CD_Quest%C3%B5es.ipynb\" target=\"_parent\"><img src=\"https://colab.research.google.com/assets/colab-badge.svg\" alt=\"Open In Colab\"/></a>"
      ]
    },
    {
      "cell_type": "markdown",
      "source": [
        "## Questão 1. (1 ponto)"
      ],
      "metadata": {
        "id": "jJILxIu5-jne"
      }
    },
    {
      "cell_type": "markdown",
      "source": [
        "Aplicação de um dataset conhecido, Pima Indians Diabetes Dataset.\n",
        "\n"
      ],
      "metadata": {
        "id": "JrZhcwmZ-0O_"
      }
    },
    {
      "cell_type": "code",
      "execution_count": 1,
      "metadata": {
        "colab": {
          "base_uri": "https://localhost:8080/",
          "height": 206
        },
        "id": "BNzDM6er-bti",
        "outputId": "7a8e654b-0aed-4803-d40c-fce69345e3cf"
      },
      "outputs": [
        {
          "output_type": "execute_result",
          "data": {
            "text/plain": [
              "   Pregnancies  Glucose  BloodPressure  SkinThickness  Insulin   BMI  \\\n",
              "0            6      148             72             35        0  33.6   \n",
              "1            1       85             66             29        0  26.6   \n",
              "2            8      183             64              0        0  23.3   \n",
              "3            1       89             66             23       94  28.1   \n",
              "4            0      137             40             35      168  43.1   \n",
              "\n",
              "   DiabetesPedigreeFunction  Age  Outcome  \n",
              "0                   627.000   50        1  \n",
              "1                   351.000   31        0  \n",
              "2                   672.000   32        1  \n",
              "3                   167.000   21        0  \n",
              "4                     2.288   33        1  "
            ],
            "text/html": [
              "\n",
              "  <div id=\"df-1fdca488-6759-4348-aea6-9a8fc96cde7b\">\n",
              "    <div class=\"colab-df-container\">\n",
              "      <div>\n",
              "<style scoped>\n",
              "    .dataframe tbody tr th:only-of-type {\n",
              "        vertical-align: middle;\n",
              "    }\n",
              "\n",
              "    .dataframe tbody tr th {\n",
              "        vertical-align: top;\n",
              "    }\n",
              "\n",
              "    .dataframe thead th {\n",
              "        text-align: right;\n",
              "    }\n",
              "</style>\n",
              "<table border=\"1\" class=\"dataframe\">\n",
              "  <thead>\n",
              "    <tr style=\"text-align: right;\">\n",
              "      <th></th>\n",
              "      <th>Pregnancies</th>\n",
              "      <th>Glucose</th>\n",
              "      <th>BloodPressure</th>\n",
              "      <th>SkinThickness</th>\n",
              "      <th>Insulin</th>\n",
              "      <th>BMI</th>\n",
              "      <th>DiabetesPedigreeFunction</th>\n",
              "      <th>Age</th>\n",
              "      <th>Outcome</th>\n",
              "    </tr>\n",
              "  </thead>\n",
              "  <tbody>\n",
              "    <tr>\n",
              "      <th>0</th>\n",
              "      <td>6</td>\n",
              "      <td>148</td>\n",
              "      <td>72</td>\n",
              "      <td>35</td>\n",
              "      <td>0</td>\n",
              "      <td>33.6</td>\n",
              "      <td>627.000</td>\n",
              "      <td>50</td>\n",
              "      <td>1</td>\n",
              "    </tr>\n",
              "    <tr>\n",
              "      <th>1</th>\n",
              "      <td>1</td>\n",
              "      <td>85</td>\n",
              "      <td>66</td>\n",
              "      <td>29</td>\n",
              "      <td>0</td>\n",
              "      <td>26.6</td>\n",
              "      <td>351.000</td>\n",
              "      <td>31</td>\n",
              "      <td>0</td>\n",
              "    </tr>\n",
              "    <tr>\n",
              "      <th>2</th>\n",
              "      <td>8</td>\n",
              "      <td>183</td>\n",
              "      <td>64</td>\n",
              "      <td>0</td>\n",
              "      <td>0</td>\n",
              "      <td>23.3</td>\n",
              "      <td>672.000</td>\n",
              "      <td>32</td>\n",
              "      <td>1</td>\n",
              "    </tr>\n",
              "    <tr>\n",
              "      <th>3</th>\n",
              "      <td>1</td>\n",
              "      <td>89</td>\n",
              "      <td>66</td>\n",
              "      <td>23</td>\n",
              "      <td>94</td>\n",
              "      <td>28.1</td>\n",
              "      <td>167.000</td>\n",
              "      <td>21</td>\n",
              "      <td>0</td>\n",
              "    </tr>\n",
              "    <tr>\n",
              "      <th>4</th>\n",
              "      <td>0</td>\n",
              "      <td>137</td>\n",
              "      <td>40</td>\n",
              "      <td>35</td>\n",
              "      <td>168</td>\n",
              "      <td>43.1</td>\n",
              "      <td>2.288</td>\n",
              "      <td>33</td>\n",
              "      <td>1</td>\n",
              "    </tr>\n",
              "  </tbody>\n",
              "</table>\n",
              "</div>\n",
              "      <button class=\"colab-df-convert\" onclick=\"convertToInteractive('df-1fdca488-6759-4348-aea6-9a8fc96cde7b')\"\n",
              "              title=\"Convert this dataframe to an interactive table.\"\n",
              "              style=\"display:none;\">\n",
              "        \n",
              "  <svg xmlns=\"http://www.w3.org/2000/svg\" height=\"24px\"viewBox=\"0 0 24 24\"\n",
              "       width=\"24px\">\n",
              "    <path d=\"M0 0h24v24H0V0z\" fill=\"none\"/>\n",
              "    <path d=\"M18.56 5.44l.94 2.06.94-2.06 2.06-.94-2.06-.94-.94-2.06-.94 2.06-2.06.94zm-11 1L8.5 8.5l.94-2.06 2.06-.94-2.06-.94L8.5 2.5l-.94 2.06-2.06.94zm10 10l.94 2.06.94-2.06 2.06-.94-2.06-.94-.94-2.06-.94 2.06-2.06.94z\"/><path d=\"M17.41 7.96l-1.37-1.37c-.4-.4-.92-.59-1.43-.59-.52 0-1.04.2-1.43.59L10.3 9.45l-7.72 7.72c-.78.78-.78 2.05 0 2.83L4 21.41c.39.39.9.59 1.41.59.51 0 1.02-.2 1.41-.59l7.78-7.78 2.81-2.81c.8-.78.8-2.07 0-2.86zM5.41 20L4 18.59l7.72-7.72 1.47 1.35L5.41 20z\"/>\n",
              "  </svg>\n",
              "      </button>\n",
              "      \n",
              "  <style>\n",
              "    .colab-df-container {\n",
              "      display:flex;\n",
              "      flex-wrap:wrap;\n",
              "      gap: 12px;\n",
              "    }\n",
              "\n",
              "    .colab-df-convert {\n",
              "      background-color: #E8F0FE;\n",
              "      border: none;\n",
              "      border-radius: 50%;\n",
              "      cursor: pointer;\n",
              "      display: none;\n",
              "      fill: #1967D2;\n",
              "      height: 32px;\n",
              "      padding: 0 0 0 0;\n",
              "      width: 32px;\n",
              "    }\n",
              "\n",
              "    .colab-df-convert:hover {\n",
              "      background-color: #E2EBFA;\n",
              "      box-shadow: 0px 1px 2px rgba(60, 64, 67, 0.3), 0px 1px 3px 1px rgba(60, 64, 67, 0.15);\n",
              "      fill: #174EA6;\n",
              "    }\n",
              "\n",
              "    [theme=dark] .colab-df-convert {\n",
              "      background-color: #3B4455;\n",
              "      fill: #D2E3FC;\n",
              "    }\n",
              "\n",
              "    [theme=dark] .colab-df-convert:hover {\n",
              "      background-color: #434B5C;\n",
              "      box-shadow: 0px 1px 3px 1px rgba(0, 0, 0, 0.15);\n",
              "      filter: drop-shadow(0px 1px 2px rgba(0, 0, 0, 0.3));\n",
              "      fill: #FFFFFF;\n",
              "    }\n",
              "  </style>\n",
              "\n",
              "      <script>\n",
              "        const buttonEl =\n",
              "          document.querySelector('#df-1fdca488-6759-4348-aea6-9a8fc96cde7b button.colab-df-convert');\n",
              "        buttonEl.style.display =\n",
              "          google.colab.kernel.accessAllowed ? 'block' : 'none';\n",
              "\n",
              "        async function convertToInteractive(key) {\n",
              "          const element = document.querySelector('#df-1fdca488-6759-4348-aea6-9a8fc96cde7b');\n",
              "          const dataTable =\n",
              "            await google.colab.kernel.invokeFunction('convertToInteractive',\n",
              "                                                     [key], {});\n",
              "          if (!dataTable) return;\n",
              "\n",
              "          const docLinkHtml = 'Like what you see? Visit the ' +\n",
              "            '<a target=\"_blank\" href=https://colab.research.google.com/notebooks/data_table.ipynb>data table notebook</a>'\n",
              "            + ' to learn more about interactive tables.';\n",
              "          element.innerHTML = '';\n",
              "          dataTable['output_type'] = 'display_data';\n",
              "          await google.colab.output.renderOutput(dataTable, element);\n",
              "          const docLink = document.createElement('div');\n",
              "          docLink.innerHTML = docLinkHtml;\n",
              "          element.appendChild(docLink);\n",
              "        }\n",
              "      </script>\n",
              "    </div>\n",
              "  </div>\n",
              "  "
            ]
          },
          "metadata": {},
          "execution_count": 1
        }
      ],
      "source": [
        "import numpy as np\n",
        "import pandas as pd\n",
        "from sklearn import datasets\n",
        "from sklearn.tree import DecisionTreeClassifier \n",
        "from sklearn.metrics import classification_report, confusion_matrix, accuracy_score,mean_squared_error, mean_absolute_error, r2_score\n",
        "import matplotlib.pyplot as plt\n",
        "from sklearn.model_selection import train_test_split\n",
        "from sklearn.neighbors import KNeighborsClassifier\n",
        "from sklearn.naive_bayes import GaussianNB, MultinomialNB, BernoulliNB\n",
        "from sklearn.datasets import make_regression\n",
        "from sklearn.tree import DecisionTreeRegressor\n",
        "from matplotlib import pyplot\n",
        "import seaborn as sn\n",
        "from matplotlib import pyplot as plt\n",
        "from sklearn.linear_model import LinearRegression, LogisticRegression\n",
        "from sklearn import tree\n",
        "\n",
        "link = \"https://raw.githubusercontent.com/zadhart/Lista-2-Data-Science/master/diabetes.csv\"\n",
        "df = pd.read_csv(link)\n",
        "df.head()"
      ]
    },
    {
      "cell_type": "code",
      "source": [
        "X = df[df.columns[:-1]].values\n",
        "y = df['Outcome'].values"
      ],
      "metadata": {
        "id": "CyzQylQC_pKP"
      },
      "execution_count": 2,
      "outputs": []
    },
    {
      "cell_type": "code",
      "source": [
        "X_train, X_test, y_train, y_test = train_test_split(X, y, test_size=0.4, random_state=42, stratify=y)"
      ],
      "metadata": {
        "id": "JJ5ZIKiyATrl"
      },
      "execution_count": 3,
      "outputs": []
    },
    {
      "cell_type": "markdown",
      "source": [
        "\n",
        "\n",
        "### $( i )$ Complete K com valores de k condizentes para o KNN\n",
        "\n",
        "### $( ii )$ Adicione nas listas de treino e teste, as acurácias do modelo knn treinado. Vide documentação para obter a acurácia.\n",
        "\n",
        "* Obs: utilizar X_train, y_train para acurácia do treino e X_test e y_test para acurácia do teste.\n",
        "\n",
        "\n",
        "### Para mais informações:\n",
        "[sklearn.neighbors.KNeighborsClassifier](https://scikit-learn.org/stable/modules/generated/sklearn.neighbors.KNeighborsClassifier.html)"
      ],
      "metadata": {
        "id": "lTg5SJCvElVA"
      }
    },
    {
      "cell_type": "code",
      "source": [
        "K = 16 \n",
        "# Complete vide (i)\n",
        "accuracy_training = []\n",
        "accuracy_testing  = []\n",
        "k_list = []\n",
        "accuracy_list = []\n",
        "\n",
        "for i in range(1,K):\n",
        "  knn = KNeighborsClassifier(n_neighbors=i)\n",
        "  knn.fit(X_train, y_train)\n",
        "  y_pred = knn.predict(X_test)\n",
        "  accuracy_model = accuracy_score(y_test, y_pred)\n",
        "\n",
        "  print('----------------------------------------------------------------------------\\n')\n",
        "  print(f'Acuracia: {accuracy_model} com i = {i}\\n')\n",
        "  k_list.append(i)\n",
        "  accuracy_list.append(accuracy_model)\n",
        "  print(pd.crosstab(y_test,y_pred, rownames=['Real'], colnames=['Predito'], margins=True))"
      ],
      "metadata": {
        "id": "mkZmFEtNDO-X",
        "colab": {
          "base_uri": "https://localhost:8080/"
        },
        "outputId": "1ce5b497-12c9-4c4e-aec3-18e67a00d1b2"
      },
      "execution_count": 4,
      "outputs": [
        {
          "output_type": "stream",
          "name": "stdout",
          "text": [
            "----------------------------------------------------------------------------\n",
            "\n",
            "Acuracia: 0.6201298701298701 com i = 1\n",
            "\n",
            "Predito    0   1  All\n",
            "Real                 \n",
            "0        149  52  201\n",
            "1         65  42  107\n",
            "All      214  94  308\n",
            "----------------------------------------------------------------------------\n",
            "\n",
            "Acuracia: 0.6428571428571429 com i = 2\n",
            "\n",
            "Predito    0   1  All\n",
            "Real                 \n",
            "0        178  23  201\n",
            "1         87  20  107\n",
            "All      265  43  308\n",
            "----------------------------------------------------------------------------\n",
            "\n",
            "Acuracia: 0.6396103896103896 com i = 3\n",
            "\n",
            "Predito    0   1  All\n",
            "Real                 \n",
            "0        161  40  201\n",
            "1         71  36  107\n",
            "All      232  76  308\n",
            "----------------------------------------------------------------------------\n",
            "\n",
            "Acuracia: 0.6331168831168831 com i = 4\n",
            "\n",
            "Predito    0   1  All\n",
            "Real                 \n",
            "0        174  27  201\n",
            "1         86  21  107\n",
            "All      260  48  308\n",
            "----------------------------------------------------------------------------\n",
            "\n",
            "Acuracia: 0.6525974025974026 com i = 5\n",
            "\n",
            "Predito    0   1  All\n",
            "Real                 \n",
            "0        165  36  201\n",
            "1         71  36  107\n",
            "All      236  72  308\n",
            "----------------------------------------------------------------------------\n",
            "\n",
            "Acuracia: 0.6623376623376623 com i = 6\n",
            "\n",
            "Predito    0   1  All\n",
            "Real                 \n",
            "0        180  21  201\n",
            "1         83  24  107\n",
            "All      263  45  308\n",
            "----------------------------------------------------------------------------\n",
            "\n",
            "Acuracia: 0.6688311688311688 com i = 7\n",
            "\n",
            "Predito    0   1  All\n",
            "Real                 \n",
            "0        167  34  201\n",
            "1         68  39  107\n",
            "All      235  73  308\n",
            "----------------------------------------------------------------------------\n",
            "\n",
            "Acuracia: 0.6623376623376623 com i = 8\n",
            "\n",
            "Predito    0   1  All\n",
            "Real                 \n",
            "0        178  23  201\n",
            "1         81  26  107\n",
            "All      259  49  308\n",
            "----------------------------------------------------------------------------\n",
            "\n",
            "Acuracia: 0.6558441558441559 com i = 9\n",
            "\n",
            "Predito    0   1  All\n",
            "Real                 \n",
            "0        165  36  201\n",
            "1         70  37  107\n",
            "All      235  73  308\n",
            "----------------------------------------------------------------------------\n",
            "\n",
            "Acuracia: 0.6655844155844156 com i = 10\n",
            "\n",
            "Predito    0   1  All\n",
            "Real                 \n",
            "0        181  20  201\n",
            "1         83  24  107\n",
            "All      264  44  308\n",
            "----------------------------------------------------------------------------\n",
            "\n",
            "Acuracia: 0.6623376623376623 com i = 11\n",
            "\n",
            "Predito    0   1  All\n",
            "Real                 \n",
            "0        169  32  201\n",
            "1         72  35  107\n",
            "All      241  67  308\n",
            "----------------------------------------------------------------------------\n",
            "\n",
            "Acuracia: 0.6753246753246753 com i = 12\n",
            "\n",
            "Predito    0   1  All\n",
            "Real                 \n",
            "0        184  17  201\n",
            "1         83  24  107\n",
            "All      267  41  308\n",
            "----------------------------------------------------------------------------\n",
            "\n",
            "Acuracia: 0.672077922077922 com i = 13\n",
            "\n",
            "Predito    0   1  All\n",
            "Real                 \n",
            "0        174  27  201\n",
            "1         74  33  107\n",
            "All      248  60  308\n",
            "----------------------------------------------------------------------------\n",
            "\n",
            "Acuracia: 0.6785714285714286 com i = 14\n",
            "\n",
            "Predito    0   1  All\n",
            "Real                 \n",
            "0        182  19  201\n",
            "1         80  27  107\n",
            "All      262  46  308\n",
            "----------------------------------------------------------------------------\n",
            "\n",
            "Acuracia: 0.6915584415584416 com i = 15\n",
            "\n",
            "Predito    0   1  All\n",
            "Real                 \n",
            "0        178  23  201\n",
            "1         72  35  107\n",
            "All      250  58  308\n"
          ]
        }
      ]
    },
    {
      "cell_type": "markdown",
      "source": [
        "### Gere um plot com:\n",
        "* Eixo x: valores de k\n",
        "* Eixo y: valores da acurácia\n",
        "\n",
        "### Gere um plot com a acurácia dos dados de treinamento e outro com os dados de teste."
      ],
      "metadata": {
        "id": "3OOusvErFf8F"
      }
    },
    {
      "cell_type": "code",
      "source": [
        "plt.title('Acurácia obtida variando os valores de K')\n",
        "\n",
        "# Complete com o que foi solicitado acima\n",
        "\n",
        "plt.plot(k_list,accuracy_list , 'ro')"
      ],
      "metadata": {
        "id": "JSb8gj-CFB0O",
        "colab": {
          "base_uri": "https://localhost:8080/",
          "height": 298
        },
        "outputId": "60f5faa5-814b-436a-9f85-514ad5c2636f"
      },
      "execution_count": 5,
      "outputs": [
        {
          "output_type": "execute_result",
          "data": {
            "text/plain": [
              "[<matplotlib.lines.Line2D at 0x7fa0fca75c90>]"
            ]
          },
          "metadata": {},
          "execution_count": 5
        },
        {
          "output_type": "display_data",
          "data": {
            "text/plain": [
              "<Figure size 432x288 with 1 Axes>"
            ],
            "image/png": "[encoded data removed]"
          },
          "metadata": {
            "needs_background": "light"
          }
        }
      ]
    },
    {
      "cell_type": "markdown",
      "source": [
        "## Questão 2. (0,5 ponto)\n"
      ],
      "metadata": {
        "id": "Ueh7TNE1GruG"
      }
    },
    {
      "cell_type": "markdown",
      "source": [
        "Avaliando a questão anterior, como pode ser definido um bom valor de k para o modelo? \n",
        "Discorra sobre o valor de $k=1$ em modelos de $KNN$.\n",
        "\n",
        "Descreva uma justificativa para o uso de $KNN$ como modelo preditivo nesse dataset.\n",
        "\n",
        "É visível a partir dos dados obtidos, que com o K acima de 15, a acurácia do modelo não apresenta um ganho significativo e portanto, esse é o valor ideal para uso pois não ira ter descrepância no KNN. O KNN é adequado para esse dataset por ele ser um dataset com um número pequeno de features o que facilita os cálculos de distância utilizados pelo algoritmo."
      ],
      "metadata": {
        "id": "qby8ZJTGG0C3"
      }
    },
    {
      "cell_type": "markdown",
      "source": [
        "## Questão 3. (1 ponto)\n",
        "### $( iii )$ Aplique o mesmo código da questão anterior, adaptando para utilizar o modelo preditivo do Naive Bayes e compare os resultados, avaliando os $scores$ de cada tipo de modelo Naive Bayes.\n",
        "\n",
        "### Para mais informações:\n",
        "* [sklearn.naive_bayes.GaussianNB](https://scikit-learn.org/stable/modules/generated/sklearn.naive_bayes.GaussianNB.html#sklearn.naive_bayes.GaussianNB.score)\n",
        "* [sklearn.naive_bayes.MultinomialNB](https://scikit-learn.org/stable/modules/generated/sklearn.naive_bayes.MultinomialNB.html#sklearn.naive_bayes.MultinomialNB)\n",
        "* [sklearn.naive_bayes.BernoulliNB](https://scikit-learn.org/stable/modules/generated/sklearn.naive_bayes.BernoulliNB.html)\n",
        "\n",
        "* OBS: Lembrar de mudar os parâmetros das funções para um possível melhor resultado."
      ],
      "metadata": {
        "id": "yi4KmnZVKUjF"
      }
    },
    {
      "cell_type": "code",
      "source": [
        "df = pd.read_csv(link)\n",
        "df.head()"
      ],
      "metadata": {
        "colab": {
          "base_uri": "https://localhost:8080/",
          "height": 206
        },
        "id": "--GLUzE6Axxh",
        "outputId": "400f7079-de36-4abc-d2ed-f5f25d671a3d"
      },
      "execution_count": 7,
      "outputs": [
        {
          "output_type": "execute_result",
          "data": {
            "text/plain": [
              "   Pregnancies  Glucose  BloodPressure  SkinThickness  Insulin   BMI  \\\n",
              "0            6      148             72             35        0  33.6   \n",
              "1            1       85             66             29        0  26.6   \n",
              "2            8      183             64              0        0  23.3   \n",
              "3            1       89             66             23       94  28.1   \n",
              "4            0      137             40             35      168  43.1   \n",
              "\n",
              "   DiabetesPedigreeFunction  Age  Outcome  \n",
              "0                   627.000   50        1  \n",
              "1                   351.000   31        0  \n",
              "2                   672.000   32        1  \n",
              "3                   167.000   21        0  \n",
              "4                     2.288   33        1  "
            ],
            "text/html": [
              "\n",
              "  <div id=\"df-e27b3796-79bf-4350-ae44-7a28aa3a07e9\">\n",
              "    <div class=\"colab-df-container\">\n",
              "      <div>\n",
              "<style scoped>\n",
              "    .dataframe tbody tr th:only-of-type {\n",
              "        vertical-align: middle;\n",
              "    }\n",
              "\n",
              "    .dataframe tbody tr th {\n",
              "        vertical-align: top;\n",
              "    }\n",
              "\n",
              "    .dataframe thead th {\n",
              "        text-align: right;\n",
              "    }\n",
              "</style>\n",
              "<table border=\"1\" class=\"dataframe\">\n",
              "  <thead>\n",
              "    <tr style=\"text-align: right;\">\n",
              "      <th></th>\n",
              "      <th>Pregnancies</th>\n",
              "      <th>Glucose</th>\n",
              "      <th>BloodPressure</th>\n",
              "      <th>SkinThickness</th>\n",
              "      <th>Insulin</th>\n",
              "      <th>BMI</th>\n",
              "      <th>DiabetesPedigreeFunction</th>\n",
              "      <th>Age</th>\n",
              "      <th>Outcome</th>\n",
              "    </tr>\n",
              "  </thead>\n",
              "  <tbody>\n",
              "    <tr>\n",
              "      <th>0</th>\n",
              "      <td>6</td>\n",
              "      <td>148</td>\n",
              "      <td>72</td>\n",
              "      <td>35</td>\n",
              "      <td>0</td>\n",
              "      <td>33.6</td>\n",
              "      <td>627.000</td>\n",
              "      <td>50</td>\n",
              "      <td>1</td>\n",
              "    </tr>\n",
              "    <tr>\n",
              "      <th>1</th>\n",
              "      <td>1</td>\n",
              "      <td>85</td>\n",
              "      <td>66</td>\n",
              "      <td>29</td>\n",
              "      <td>0</td>\n",
              "      <td>26.6</td>\n",
              "      <td>351.000</td>\n",
              "      <td>31</td>\n",
              "      <td>0</td>\n",
              "    </tr>\n",
              "    <tr>\n",
              "      <th>2</th>\n",
              "      <td>8</td>\n",
              "      <td>183</td>\n",
              "      <td>64</td>\n",
              "      <td>0</td>\n",
              "      <td>0</td>\n",
              "      <td>23.3</td>\n",
              "      <td>672.000</td>\n",
              "      <td>32</td>\n",
              "      <td>1</td>\n",
              "    </tr>\n",
              "    <tr>\n",
              "      <th>3</th>\n",
              "      <td>1</td>\n",
              "      <td>89</td>\n",
              "      <td>66</td>\n",
              "      <td>23</td>\n",
              "      <td>94</td>\n",
              "      <td>28.1</td>\n",
              "      <td>167.000</td>\n",
              "      <td>21</td>\n",
              "      <td>0</td>\n",
              "    </tr>\n",
              "    <tr>\n",
              "      <th>4</th>\n",
              "      <td>0</td>\n",
              "      <td>137</td>\n",
              "      <td>40</td>\n",
              "      <td>35</td>\n",
              "      <td>168</td>\n",
              "      <td>43.1</td>\n",
              "      <td>2.288</td>\n",
              "      <td>33</td>\n",
              "      <td>1</td>\n",
              "    </tr>\n",
              "  </tbody>\n",
              "</table>\n",
              "</div>\n",
              "      <button class=\"colab-df-convert\" onclick=\"convertToInteractive('df-e27b3796-79bf-4350-ae44-7a28aa3a07e9')\"\n",
              "              title=\"Convert this dataframe to an interactive table.\"\n",
              "              style=\"display:none;\">\n",
              "        \n",
              "  <svg xmlns=\"http://www.w3.org/2000/svg\" height=\"24px\"viewBox=\"0 0 24 24\"\n",
              "       width=\"24px\">\n",
              "    <path d=\"M0 0h24v24H0V0z\" fill=\"none\"/>\n",
              "    <path d=\"M18.56 5.44l.94 2.06.94-2.06 2.06-.94-2.06-.94-.94-2.06-.94 2.06-2.06.94zm-11 1L8.5 8.5l.94-2.06 2.06-.94-2.06-.94L8.5 2.5l-.94 2.06-2.06.94zm10 10l.94 2.06.94-2.06 2.06-.94-2.06-.94-.94-2.06-.94 2.06-2.06.94z\"/><path d=\"M17.41 7.96l-1.37-1.37c-.4-.4-.92-.59-1.43-.59-.52 0-1.04.2-1.43.59L10.3 9.45l-7.72 7.72c-.78.78-.78 2.05 0 2.83L4 21.41c.39.39.9.59 1.41.59.51 0 1.02-.2 1.41-.59l7.78-7.78 2.81-2.81c.8-.78.8-2.07 0-2.86zM5.41 20L4 18.59l7.72-7.72 1.47 1.35L5.41 20z\"/>\n",
              "  </svg>\n",
              "      </button>\n",
              "      \n",
              "  <style>\n",
              "    .colab-df-container {\n",
              "      display:flex;\n",
              "      flex-wrap:wrap;\n",
              "      gap: 12px;\n",
              "    }\n",
              "\n",
              "    .colab-df-convert {\n",
              "      background-color: #E8F0FE;\n",
              "      border: none;\n",
              "      border-radius: 50%;\n",
              "      cursor: pointer;\n",
              "      display: none;\n",
              "      fill: #1967D2;\n",
              "      height: 32px;\n",
              "      padding: 0 0 0 0;\n",
              "      width: 32px;\n",
              "    }\n",
              "\n",
              "    .colab-df-convert:hover {\n",
              "      background-color: #E2EBFA;\n",
              "      box-shadow: 0px 1px 2px rgba(60, 64, 67, 0.3), 0px 1px 3px 1px rgba(60, 64, 67, 0.15);\n",
              "      fill: #174EA6;\n",
              "    }\n",
              "\n",
              "    [theme=dark] .colab-df-convert {\n",
              "      background-color: #3B4455;\n",
              "      fill: #D2E3FC;\n",
              "    }\n",
              "\n",
              "    [theme=dark] .colab-df-convert:hover {\n",
              "      background-color: #434B5C;\n",
              "      box-shadow: 0px 1px 3px 1px rgba(0, 0, 0, 0.15);\n",
              "      filter: drop-shadow(0px 1px 2px rgba(0, 0, 0, 0.3));\n",
              "      fill: #FFFFFF;\n",
              "    }\n",
              "  </style>\n",
              "\n",
              "      <script>\n",
              "        const buttonEl =\n",
              "          document.querySelector('#df-e27b3796-79bf-4350-ae44-7a28aa3a07e9 button.colab-df-convert');\n",
              "        buttonEl.style.display =\n",
              "          google.colab.kernel.accessAllowed ? 'block' : 'none';\n",
              "\n",
              "        async function convertToInteractive(key) {\n",
              "          const element = document.querySelector('#df-e27b3796-79bf-4350-ae44-7a28aa3a07e9');\n",
              "          const dataTable =\n",
              "            await google.colab.kernel.invokeFunction('convertToInteractive',\n",
              "                                                     [key], {});\n",
              "          if (!dataTable) return;\n",
              "\n",
              "          const docLinkHtml = 'Like what you see? Visit the ' +\n",
              "            '<a target=\"_blank\" href=https://colab.research.google.com/notebooks/data_table.ipynb>data table notebook</a>'\n",
              "            + ' to learn more about interactive tables.';\n",
              "          element.innerHTML = '';\n",
              "          dataTable['output_type'] = 'display_data';\n",
              "          await google.colab.output.renderOutput(dataTable, element);\n",
              "          const docLink = document.createElement('div');\n",
              "          docLink.innerHTML = docLinkHtml;\n",
              "          element.appendChild(docLink);\n",
              "        }\n",
              "      </script>\n",
              "    </div>\n",
              "  </div>\n",
              "  "
            ]
          },
          "metadata": {},
          "execution_count": 7
        }
      ]
    },
    {
      "cell_type": "code",
      "source": [
        "X = df[df.columns[:-1]].values\n",
        "y = df['Outcome'].values\n",
        "\n",
        "X_train, X_test, y_train, y_test = train_test_split(X, y, test_size=0.4, random_state=42, stratify=y)\n"
      ],
      "metadata": {
        "id": "BOGYAIUkAyIk"
      },
      "execution_count": null,
      "outputs": []
    },
    {
      "cell_type": "code",
      "source": [
        "# GAUSSIANO\n",
        "gaussiana = GaussianNB()\n",
        "gaussiana.fit(X_train, y_train)\n",
        "y_pred_gaussiana = gaussiana.predict(X_test)\n",
        "\n",
        "accuracy_model = accuracy_score(y_test, y_pred_gaussiana)\n",
        "print(f'Gaussiano: {accuracy_model}\\n')\n",
        "\n",
        "\n",
        "# Complete vide (iii)"
      ],
      "metadata": {
        "id": "IM8Cos6aLJZQ",
        "colab": {
          "base_uri": "https://localhost:8080/"
        },
        "outputId": "b5898d01-6a6b-461c-caee-85ce5643a6eb"
      },
      "execution_count": 8,
      "outputs": [
        {
          "output_type": "stream",
          "name": "stdout",
          "text": [
            "Gaussiano: 0.724025974025974\n",
            "\n"
          ]
        }
      ]
    },
    {
      "cell_type": "code",
      "source": [
        "# MULTINOMIAL\n",
        "\n",
        "multinominal = MultinomialNB()\n",
        "multinominal.fit(X_train, y_train)\n",
        "y_pred_multinominal = multinominal.predict(X_test)\n",
        "\n",
        "accuracy_model = accuracy_score(y_test, y_pred_multinominal)\n",
        "print(f'Multinomial: {accuracy_model}\\n')"
      ],
      "metadata": {
        "colab": {
          "base_uri": "https://localhost:8080/"
        },
        "id": "TD0JGh8TqQBU",
        "outputId": "526a2b0b-d36e-46f9-c2af-9f5cce58fed5"
      },
      "execution_count": 9,
      "outputs": [
        {
          "output_type": "stream",
          "name": "stdout",
          "text": [
            "Multinomial: 0.5811688311688312\n",
            "\n"
          ]
        }
      ]
    },
    {
      "cell_type": "code",
      "source": [
        "# BERNOULLI\n",
        "\n",
        "bernoulli = BernoulliNB()\n",
        "bernoulli.fit(X_train, y_train)\n",
        "y_pred_bernoulli = bernoulli.predict(X_test)\n",
        "\n",
        "accuracy_model = accuracy_score(y_test, y_pred_bernoulli)\n",
        "print(f'Bernoulli: {accuracy_model}\\n')"
      ],
      "metadata": {
        "id": "xmpWAtImqbaa"
      },
      "execution_count": null,
      "outputs": []
    },
    {
      "cell_type": "markdown",
      "source": [
        "## Questão 4. (1 ponto)\n"
      ],
      "metadata": {
        "id": "eVFGmBA8Mxbe"
      }
    },
    {
      "cell_type": "markdown",
      "source": [
        "## Descreva se teve alguma mudança significativa na comparação dos modelos preditivos, tanto entre tipos de Naive Bayes, quanto entre Naive Bayes e KNN.\n",
        "\n",
        "## Cite algum caso específico em que Naive Bayes pode ser mais vantajoso do que KNN e vice-versa.\n",
        "\n",
        "Os modelos do tipo Naive bayes não apresentaram mudanças significativas relevantes. Enquanto que quando comparamos os modelos de Naive Bayes e o KNN encontramos uma diferença significativa visto que se tratam de modelos distintos, todavia a diferença apesentada é mínima devido ao tamanho da base de dados. Utilizando uma base de dados com mais features nos permitiria uma vantagem maior utilizando Naive Bayes já que o KNN demonstra dificuldades em trabalhar com dados que possuem uma alta dimensionalidade."
      ],
      "metadata": {
        "id": "h0p8WrZoQQU7"
      }
    },
    {
      "cell_type": "markdown",
      "source": [
        "## Questão 5. (1 ponto)\n",
        "\n",
        "## Avalie a base de dados de Pima Indians Diabetes pela acurácia, utilizando Regressão Linear e Regressão Logística $(iv)$.\n",
        "\n",
        "* Obs: Lembrar de mudar os parâmetros para ser compatível com as regressões respectivas.\n"
      ],
      "metadata": {
        "id": "tcquUevQNadd"
      }
    },
    {
      "cell_type": "code",
      "source": [
        "df = pd.read_csv(link)\n",
        "df.head()"
      ],
      "metadata": {
        "id": "6qxDFoT6A0w6",
        "colab": {
          "base_uri": "https://localhost:8080/",
          "height": 206
        },
        "outputId": "ccc0aa73-9b01-450c-c148-47152d5d6725"
      },
      "execution_count": 11,
      "outputs": [
        {
          "output_type": "execute_result",
          "data": {
            "text/plain": [
              "   Pregnancies  Glucose  BloodPressure  SkinThickness  Insulin   BMI  \\\n",
              "0            6      148             72             35        0  33.6   \n",
              "1            1       85             66             29        0  26.6   \n",
              "2            8      183             64              0        0  23.3   \n",
              "3            1       89             66             23       94  28.1   \n",
              "4            0      137             40             35      168  43.1   \n",
              "\n",
              "   DiabetesPedigreeFunction  Age  Outcome  \n",
              "0                   627.000   50        1  \n",
              "1                   351.000   31        0  \n",
              "2                   672.000   32        1  \n",
              "3                   167.000   21        0  \n",
              "4                     2.288   33        1  "
            ],
            "text/html": [
              "\n",
              "  <div id=\"df-7ccbbb29-231d-4eae-8f4b-48ba00074ccc\">\n",
              "    <div class=\"colab-df-container\">\n",
              "      <div>\n",
              "<style scoped>\n",
              "    .dataframe tbody tr th:only-of-type {\n",
              "        vertical-align: middle;\n",
              "    }\n",
              "\n",
              "    .dataframe tbody tr th {\n",
              "        vertical-align: top;\n",
              "    }\n",
              "\n",
              "    .dataframe thead th {\n",
              "        text-align: right;\n",
              "    }\n",
              "</style>\n",
              "<table border=\"1\" class=\"dataframe\">\n",
              "  <thead>\n",
              "    <tr style=\"text-align: right;\">\n",
              "      <th></th>\n",
              "      <th>Pregnancies</th>\n",
              "      <th>Glucose</th>\n",
              "      <th>BloodPressure</th>\n",
              "      <th>SkinThickness</th>\n",
              "      <th>Insulin</th>\n",
              "      <th>BMI</th>\n",
              "      <th>DiabetesPedigreeFunction</th>\n",
              "      <th>Age</th>\n",
              "      <th>Outcome</th>\n",
              "    </tr>\n",
              "  </thead>\n",
              "  <tbody>\n",
              "    <tr>\n",
              "      <th>0</th>\n",
              "      <td>6</td>\n",
              "      <td>148</td>\n",
              "      <td>72</td>\n",
              "      <td>35</td>\n",
              "      <td>0</td>\n",
              "      <td>33.6</td>\n",
              "      <td>627.000</td>\n",
              "      <td>50</td>\n",
              "      <td>1</td>\n",
              "    </tr>\n",
              "    <tr>\n",
              "      <th>1</th>\n",
              "      <td>1</td>\n",
              "      <td>85</td>\n",
              "      <td>66</td>\n",
              "      <td>29</td>\n",
              "      <td>0</td>\n",
              "      <td>26.6</td>\n",
              "      <td>351.000</td>\n",
              "      <td>31</td>\n",
              "      <td>0</td>\n",
              "    </tr>\n",
              "    <tr>\n",
              "      <th>2</th>\n",
              "      <td>8</td>\n",
              "      <td>183</td>\n",
              "      <td>64</td>\n",
              "      <td>0</td>\n",
              "      <td>0</td>\n",
              "      <td>23.3</td>\n",
              "      <td>672.000</td>\n",
              "      <td>32</td>\n",
              "      <td>1</td>\n",
              "    </tr>\n",
              "    <tr>\n",
              "      <th>3</th>\n",
              "      <td>1</td>\n",
              "      <td>89</td>\n",
              "      <td>66</td>\n",
              "      <td>23</td>\n",
              "      <td>94</td>\n",
              "      <td>28.1</td>\n",
              "      <td>167.000</td>\n",
              "      <td>21</td>\n",
              "      <td>0</td>\n",
              "    </tr>\n",
              "    <tr>\n",
              "      <th>4</th>\n",
              "      <td>0</td>\n",
              "      <td>137</td>\n",
              "      <td>40</td>\n",
              "      <td>35</td>\n",
              "      <td>168</td>\n",
              "      <td>43.1</td>\n",
              "      <td>2.288</td>\n",
              "      <td>33</td>\n",
              "      <td>1</td>\n",
              "    </tr>\n",
              "  </tbody>\n",
              "</table>\n",
              "</div>\n",
              "      <button class=\"colab-df-convert\" onclick=\"convertToInteractive('df-7ccbbb29-231d-4eae-8f4b-48ba00074ccc')\"\n",
              "              title=\"Convert this dataframe to an interactive table.\"\n",
              "              style=\"display:none;\">\n",
              "        \n",
              "  <svg xmlns=\"http://www.w3.org/2000/svg\" height=\"24px\"viewBox=\"0 0 24 24\"\n",
              "       width=\"24px\">\n",
              "    <path d=\"M0 0h24v24H0V0z\" fill=\"none\"/>\n",
              "    <path d=\"M18.56 5.44l.94 2.06.94-2.06 2.06-.94-2.06-.94-.94-2.06-.94 2.06-2.06.94zm-11 1L8.5 8.5l.94-2.06 2.06-.94-2.06-.94L8.5 2.5l-.94 2.06-2.06.94zm10 10l.94 2.06.94-2.06 2.06-.94-2.06-.94-.94-2.06-.94 2.06-2.06.94z\"/><path d=\"M17.41 7.96l-1.37-1.37c-.4-.4-.92-.59-1.43-.59-.52 0-1.04.2-1.43.59L10.3 9.45l-7.72 7.72c-.78.78-.78 2.05 0 2.83L4 21.41c.39.39.9.59 1.41.59.51 0 1.02-.2 1.41-.59l7.78-7.78 2.81-2.81c.8-.78.8-2.07 0-2.86zM5.41 20L4 18.59l7.72-7.72 1.47 1.35L5.41 20z\"/>\n",
              "  </svg>\n",
              "      </button>\n",
              "      \n",
              "  <style>\n",
              "    .colab-df-container {\n",
              "      display:flex;\n",
              "      flex-wrap:wrap;\n",
              "      gap: 12px;\n",
              "    }\n",
              "\n",
              "    .colab-df-convert {\n",
              "      background-color: #E8F0FE;\n",
              "      border: none;\n",
              "      border-radius: 50%;\n",
              "      cursor: pointer;\n",
              "      display: none;\n",
              "      fill: #1967D2;\n",
              "      height: 32px;\n",
              "      padding: 0 0 0 0;\n",
              "      width: 32px;\n",
              "    }\n",
              "\n",
              "    .colab-df-convert:hover {\n",
              "      background-color: #E2EBFA;\n",
              "      box-shadow: 0px 1px 2px rgba(60, 64, 67, 0.3), 0px 1px 3px 1px rgba(60, 64, 67, 0.15);\n",
              "      fill: #174EA6;\n",
              "    }\n",
              "\n",
              "    [theme=dark] .colab-df-convert {\n",
              "      background-color: #3B4455;\n",
              "      fill: #D2E3FC;\n",
              "    }\n",
              "\n",
              "    [theme=dark] .colab-df-convert:hover {\n",
              "      background-color: #434B5C;\n",
              "      box-shadow: 0px 1px 3px 1px rgba(0, 0, 0, 0.15);\n",
              "      filter: drop-shadow(0px 1px 2px rgba(0, 0, 0, 0.3));\n",
              "      fill: #FFFFFF;\n",
              "    }\n",
              "  </style>\n",
              "\n",
              "      <script>\n",
              "        const buttonEl =\n",
              "          document.querySelector('#df-7ccbbb29-231d-4eae-8f4b-48ba00074ccc button.colab-df-convert');\n",
              "        buttonEl.style.display =\n",
              "          google.colab.kernel.accessAllowed ? 'block' : 'none';\n",
              "\n",
              "        async function convertToInteractive(key) {\n",
              "          const element = document.querySelector('#df-7ccbbb29-231d-4eae-8f4b-48ba00074ccc');\n",
              "          const dataTable =\n",
              "            await google.colab.kernel.invokeFunction('convertToInteractive',\n",
              "                                                     [key], {});\n",
              "          if (!dataTable) return;\n",
              "\n",
              "          const docLinkHtml = 'Like what you see? Visit the ' +\n",
              "            '<a target=\"_blank\" href=https://colab.research.google.com/notebooks/data_table.ipynb>data table notebook</a>'\n",
              "            + ' to learn more about interactive tables.';\n",
              "          element.innerHTML = '';\n",
              "          dataTable['output_type'] = 'display_data';\n",
              "          await google.colab.output.renderOutput(dataTable, element);\n",
              "          const docLink = document.createElement('div');\n",
              "          docLink.innerHTML = docLinkHtml;\n",
              "          element.appendChild(docLink);\n",
              "        }\n",
              "      </script>\n",
              "    </div>\n",
              "  </div>\n",
              "  "
            ]
          },
          "metadata": {},
          "execution_count": 11
        }
      ]
    },
    {
      "cell_type": "code",
      "source": [
        "X = df[df.columns[:-1]].values\n",
        "y = df['Outcome'].values\n",
        "\n",
        "X_train, X_test, y_train, y_test = train_test_split(X, y, test_size=0.4, random_state=42, stratify=y)\n"
      ],
      "metadata": {
        "id": "MDKO4NEPA3cy"
      },
      "execution_count": 12,
      "outputs": []
    },
    {
      "cell_type": "code",
      "source": [
        "# REGRESSAO LINEAR\n",
        "\n",
        "regressao = LinearRegression()\n",
        "regressao.fit(X_train, y_train)\n",
        "regressao.coef_\n",
        "diabetes_y_pred = regressao.predict(X_test)\n",
        "\n",
        "print(\"SCORE TREINO: {:.4f}\".format(regressao.score(X_train, y_train)))\n",
        "print(\"SCORE TESTE: {:.4f}\".format(regressao.score(X_test, y_test)))\n",
        "\n",
        "print('ERRO ABSOLUTO MEDIO: %.4f' % mean_absolute_error(y_test, diabetes_y_pred))\n",
        "print('ERRO QUADRADO MEDIO: %.4f' % mean_squared_error(y_test, diabetes_y_pred))\n",
        "print('R2 SCORE: %.4f' % r2_score(y_test, diabetes_y_pred))"
      ],
      "metadata": {
        "id": "dHaG5QOqTHH-",
        "colab": {
          "base_uri": "https://localhost:8080/"
        },
        "outputId": "2d6c9117-5097-477a-90fc-382ee52ff412"
      },
      "execution_count": 15,
      "outputs": [
        {
          "output_type": "stream",
          "name": "stdout",
          "text": [
            "SCORE TREINO: 0.3185\n",
            "SCORE TESTE: 0.2662\n",
            "ERRO ABSOLUTO MEDIO: 0.3414\n",
            "ERRO QUADRADO MEDIO: 0.1664\n",
            "R2 SCORE: 0.2662\n"
          ]
        }
      ]
    },
    {
      "cell_type": "code",
      "source": [
        "# REGRESSAO LOGISTICA\n",
        "\n",
        "logistica= LogisticRegression()\n",
        "logistica.fit(X_train,y_train)\n",
        "logistica.coef_\n",
        "y_pred = logistica.predict(X_test)\n",
        "\n",
        "print(\"SCORE TREINO: {:.4f}\".format(logistica.score(X_train, y_train)))\n",
        "print(\"SCORE TESTE: {:.4f}\".format(logistica.score(X_test, y_test)))\n",
        "\n",
        "print('ERRO ABSOLUTO MEDIO: %.4f' % mean_absolute_error(y_test, y_pred))\n",
        "print('ERRO QUADRADO MEDIO: %.4f' % mean_squared_error(y_test, y_pred))\n",
        "print('R2 SCORE: %.4f' % r2_score(y_test, y_pred))\n",
        "print('ACURACIA: ',accuracy_score(y_test, y_pred))"
      ],
      "metadata": {
        "colab": {
          "base_uri": "https://localhost:8080/"
        },
        "id": "vuIEDUCxvvHN",
        "outputId": "133916f5-46ea-41a4-c89a-9ed91b552a0d"
      },
      "execution_count": 16,
      "outputs": [
        {
          "output_type": "stream",
          "name": "stdout",
          "text": [
            "SCORE TREINO: 0.7152\n",
            "SCORE TESTE: 0.6721\n",
            "ERRO ABSOLUTO MEDIO: 0.3279\n",
            "ERRO QUADRADO MEDIO: 0.3279\n",
            "R2 SCORE: -0.4464\n",
            "ACURACIA:  0.672077922077922\n"
          ]
        },
        {
          "output_type": "stream",
          "name": "stderr",
          "text": [
            "/usr/local/lib/python3.7/dist-packages/sklearn/linear_model/_logistic.py:818: ConvergenceWarning: lbfgs failed to converge (status=1):\n",
            "STOP: TOTAL NO. of ITERATIONS REACHED LIMIT.\n",
            "\n",
            "Increase the number of iterations (max_iter) or scale the data as shown in:\n",
            "    https://scikit-learn.org/stable/modules/preprocessing.html\n",
            "Please also refer to the documentation for alternative solver options:\n",
            "    https://scikit-learn.org/stable/modules/linear_model.html#logistic-regression\n",
            "  extra_warning_msg=_LOGISTIC_SOLVER_CONVERGENCE_MSG,\n"
          ]
        }
      ]
    },
    {
      "cell_type": "code",
      "source": [
        "confusion_matrix = pd.crosstab(y_test, y_pred, rownames=['Actual'], colnames=['Predicted'])\n",
        "sn.heatmap(confusion_matrix, annot=True)"
      ],
      "metadata": {
        "colab": {
          "base_uri": "https://localhost:8080/",
          "height": 296
        },
        "id": "nQVOJpc02MNh",
        "outputId": "8f875363-9cc2-4fbc-8150-36dd121756e9"
      },
      "execution_count": 17,
      "outputs": [
        {
          "output_type": "execute_result",
          "data": {
            "text/plain": [
              "<matplotlib.axes._subplots.AxesSubplot at 0x7fa0fa3d8710>"
            ]
          },
          "metadata": {},
          "execution_count": 17
        },
        {
          "output_type": "display_data",
          "data": {
            "text/plain": [
              "<Figure size 432x288 with 2 Axes>"
            ],
            "image/png": "[encoded data removed]"
          },
          "metadata": {
            "needs_background": "light"
          }
        }
      ]
    },
    {
      "cell_type": "markdown",
      "source": [
        "## Questão 6(0,5 ponto).\n",
        "## Explique como o $fitting$ da Regressão Logística se diferencia da Regressão Linear.\n",
        "\n",
        "## Em que contextos a Regressão Logística é preferível de se utilizar do que a Linear?\n",
        "\n",
        "O aprendizado presente na regressão logística é diferente do apresentado na regressão Linear. Porque a regressão linear busca apenas a correlação entre dois dados, já a regressão logística além de encontrar a relação logística ela também tenta classificar os dados em categorias fazendo assim com que seu aprendizado apresente melhores resultados em diversos casos. Devemos preferir utilizar a regressão logística em detrimento da linear quando possuímos dados que possuem uma ideia categórica. Por exemplo o conjunto de livros de uma biblioteca. "
      ],
      "metadata": {
        "id": "Ufy_bmXpVHzQ"
      }
    },
    {
      "cell_type": "markdown",
      "source": [
        "## Questão 7. (0,5 ponto)\n",
        "## Analise a árvore a abaixo e utilize para explicar mais sobre as propriedades do problema."
      ],
      "metadata": {
        "id": "GqArKssYHU_P"
      }
    },
    {
      "cell_type": "code",
      "source": [
        "from sklearn import tree\n",
        "from sklearn import datasets\n",
        "from sklearn.tree import DecisionTreeClassifier \n",
        "\n",
        "iris = datasets.load_iris()\n",
        "X = iris.data\n",
        "y = iris.target\n",
        "clf = DecisionTreeClassifier(random_state=1234)\n",
        "model = clf.fit(X, y)\n",
        "fig = plt.figure(figsize=(25,10))\n",
        "_ = tree.plot_tree(clf, \n",
        "                   feature_names=iris.feature_names,  \n",
        "                   class_names=iris.target_names,\n",
        "                   filled=True)"
      ],
      "metadata": {
        "id": "D-HepkwNV0K7",
        "colab": {
          "base_uri": "https://localhost:8080/",
          "height": 575
        },
        "outputId": "4e288856-5e02-4e8c-d3d9-339c16c8b26a"
      },
      "execution_count": null,
      "outputs": [
        {
          "output_type": "display_data",
          "data": {
            "text/plain": [
              "<Figure size 1800x720 with 1 Axes>"
            ],
            "image/png": "[encoded data removed]"
          },
          "metadata": {
            "needs_background": "light"
          }
        }
      ]
    },
    {
      "cell_type": "markdown",
      "source": [
        "É visível através da árvore demonstrada anteriormente que a partir de uma característica crucial, o algoritmo então classifica e divide cada tipo de flor em classes levando em consideração o tamanho da pétala bem como a grossura de sua sépala."
      ],
      "metadata": {
        "id": "33JtFfTg4B_m"
      }
    },
    {
      "cell_type": "markdown",
      "source": [
        "## Questão 8. (0,5 ponto)\n",
        "## Analise o gráfico da importância que a árvore dá para cada feature e retire insights sobre fatores de riscos da diabetes.\n"
      ],
      "metadata": {
        "id": "uBASm24UIO8f"
      }
    },
    {
      "cell_type": "code",
      "source": [
        "from sklearn.datasets import make_regression\n",
        "from sklearn.tree import DecisionTreeRegressor\n",
        "from matplotlib import pyplot\n",
        "\n",
        "df = pd.read_csv(\"diabetes.csv\")\n",
        "X = df[df.columns[:-1]].values\n",
        "y = df['Outcome'].values\n",
        "\n",
        "model = DecisionTreeRegressor()\n",
        "model.fit(X, y)\n",
        "importance = model.feature_importances_\n",
        "for i,v in enumerate(importance):\n",
        "\tprint('Feature: %0d, Score: %.5f' % (i,v))\n",
        "# plot feature importance\n",
        "pyplot.figure(figsize=(15, 10), dpi=80)\n",
        "pyplot.bar(df.columns[:-1], importance)\n",
        "pyplot.show()"
      ],
      "metadata": {
        "colab": {
          "base_uri": "https://localhost:8080/",
          "height": 797
        },
        "id": "KvAReOnjB1X_",
        "outputId": "ef1d2543-c093-4b25-eade-47d7e0d7f429"
      },
      "execution_count": null,
      "outputs": [
        {
          "output_type": "stream",
          "name": "stdout",
          "text": [
            "Feature: 0, Score: 0.05559\n",
            "Feature: 1, Score: 0.32516\n",
            "Feature: 2, Score: 0.08841\n",
            "Feature: 3, Score: 0.02047\n",
            "Feature: 4, Score: 0.04632\n",
            "Feature: 5, Score: 0.21695\n",
            "Feature: 6, Score: 0.13800\n",
            "Feature: 7, Score: 0.10910\n"
          ]
        },
        {
          "output_type": "display_data",
          "data": {
            "text/plain": [
              "<Figure size 1200x800 with 1 Axes>"
            ],
            "image/png": "[encoded data removed]"
          },
          "metadata": {
            "needs_background": "light"
          }
        }
      ]
    },
    {
      "cell_type": "markdown",
      "source": [
        "## Questão 9. (1 ponto)\n",
        "## Explique o problema XOR e o perceptron clássico e a importância de ambos para o desenvolvimento da área de redes neurais.\n",
        "\n",
        "O XOR é uma operação lógica que possui como característica o fato que não podemos separar linearmente os dados. Como pode ser observado na figura a seguir:\n"
      ],
      "metadata": {
        "id": "ukkoJX0DHSwc"
      }
    },
    {
      "cell_type": "markdown",
      "source": [
        "![índice.png](data:image/png;base64,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)"
      ],
      "metadata": {
        "id": "rfIkKzhg52a-"
      }
    },
    {
      "cell_type": "markdown",
      "source": [
        "Assim, o problema do XOR foi muito importante para o desenvolvimento das redes neurais. Sabemos que o perceptron clássico só consegue ter um bom resultado com dados linearmente separáveis, e portanto não vai conseguir modelar o XOR corretamente. Assim, a solução para esse problema é utilizar uma rede neural perceptron de multicamadas que foi desenvolvida posteriormente e consegue resolver esse problema."
      ],
      "metadata": {
        "id": "oUBRTG4L6X1g"
      }
    },
    {
      "cell_type": "markdown",
      "source": [
        "## Questão 10 (3 ponto).\n",
        "## Complete o código abaixo criando 4 classificadores sendo um deles um perceptron clássico e os outros 3 sendo multilayer perceptron sendo que para cada um dos multilayer perceptron escolha um valor diferente para os seguintes atributos: \n",
        " \n",
        "*   Camadas ocultas\n",
        "*   função de ativação\n",
        "*   optimizador \n",
        " \n",
        "## Escolha um método de avaliação para os classificadores e compare o desempenho de cada um.\n",
        "\n",
        "\n",
        "\n",
        "Links úteis:\n",
        "* https://scikit-learn.org/stable/modules/generated/sklearn.neural_network.MLPClassifier.html\n",
        "* https://scikit-learn.org/stable/modules/generated/sklearn.linear_model.Perceptron.html"
      ],
      "metadata": {
        "id": "Ic_WMbgpLRBx"
      }
    },
    {
      "cell_type": "code",
      "source": [
        "from sklearn.datasets import load_digits\n",
        "from sklearn.model_selection import train_test_split\n",
        "from sklearn.linear_model import Perceptron\n",
        "from sklearn.neural_network import MLPClassifier\n",
        "\n",
        "\n",
        "X, y = load_digits(return_X_y = True)\n",
        "\n",
        "X_train, X_test, y_train, y_test = train_test_split(X, y, stratify=y, random_state=1)\n",
        "\n",
        "# Perceptron clássico\n",
        "perc = Perceptron(tol=1e-3, random_state=0)\n",
        "perc.fit(X, y)\n",
        "print(\"Score perceptron: \" + str(perc.score(X, y)))\n",
        "\n",
        "# Multilayer perceptron 1\n",
        "mult1 = MLPClassifier(hidden_layer_sizes=(10,15,15), max_iter=600,activation = 'relu',solver='adam',random_state=1).fit(X_train, y_train)\n",
        "print(\"Score multilayer perceptron 1: \" + str(mult1.score(X, y)))\n",
        "\n",
        "# Multilayer perceptron 2\n",
        "mult2 = MLPClassifier(hidden_layer_sizes=(20,30,30,40), max_iter=600,activation = 'relu',solver='sgd',random_state=1).fit(X_train, y_train)\n",
        "print(\"Score multilayer perceptron 2: \" + str(mult2.score(X, y)))\n",
        "\n",
        "# Multilayer perceptron 3\n",
        "mult3 = MLPClassifier(hidden_layer_sizes=(20,30,30,40,80,80), max_iter=600,activation = 'tanh',solver='adam',random_state=1).fit(X_train, y_train)\n",
        "print(\"Score multilayer perceptron 3: \" + str(mult3.score(X, y)))"
      ],
      "metadata": {
        "id": "pDTP4JxXK3kb",
        "colab": {
          "base_uri": "https://localhost:8080/"
        },
        "outputId": "7da7af0e-6839-435a-c71f-2ddb0268fe51"
      },
      "execution_count": 18,
      "outputs": [
        {
          "output_type": "stream",
          "name": "stdout",
          "text": [
            "Score perceptron: 0.9393433500278241\n",
            "Score multilayer perceptron 1: 0.9872008903728436\n",
            "Score multilayer perceptron 2: 0.9872008903728436\n",
            "Score multilayer perceptron 3: 0.9794101279910963\n"
          ]
        }
      ]
    },
    {
      "cell_type": "markdown",
      "source": [
        "Utilizando a acurácia média podemos perceber que os modelos 1 e 2 apresentam praticamente o mesmo desempenho. O modelo 3 apresenta o pior desempenho entre os multilayer perceptron. E, o modelo perceptron clássico possui o pior desempenho dentre os modelos testados."
      ],
      "metadata": {
        "id": "aAQA3lyn6lPT"
      }
    }
  ]
}